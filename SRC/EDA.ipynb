{
 "cells": [
  {
   "cell_type": "code",
   "execution_count": 92,
   "metadata": {},
   "outputs": [
    {
     "name": "stdout",
     "output_type": "stream",
     "text": [
      "           Tour_ID                   country age_group  \\\n",
      "0  tour_id1hffseyw                     ITALY     45-64   \n",
      "1  tour_idnacd7zag            UNITED KINGDOM     25-44   \n",
      "2  tour_id62vz7e71  UNITED STATES OF AMERICA       65+   \n",
      "3  tour_idrc76tzix                    RWANDA     25-44   \n",
      "4  tour_idn723m0n9  UNITED STATES OF AMERICA     45-64   \n",
      "5  tour_id8aylf7ba                    FRANCE     25-44   \n",
      "6  tour_idvcadicba                SWIZERLAND     25-44   \n",
      "7  tour_idfmavssxv                   NIGERIA     25-44   \n",
      "8  tour_id8oqlvjwr            UNITED KINGDOM     18-24   \n",
      "9  tour_idy0blevrs                 AUSTRALIA     45-64   \n",
      "\n",
      "                travel_with  total_female  total_male  \\\n",
      "0             With Children           0.0         2.0   \n",
      "1               With Spouse           1.0         1.0   \n",
      "2               With Spouse           1.0         1.0   \n",
      "3  With Spouse and Children           3.0         1.0   \n",
      "4                     Alone           0.0         1.0   \n",
      "5               With Spouse           1.0         1.0   \n",
      "6               With Spouse           1.0         1.0   \n",
      "7                     Alone           0.0         1.0   \n",
      "8                     Alone           1.0         0.0   \n",
      "9               With Spouse           1.0         1.0   \n",
      "\n",
      "                          purpose     main_activity  \\\n",
      "0  Visiting Friends and Relatives     Beach Tourism   \n",
      "1            Leisure and Holidays  Wildlife Tourism   \n",
      "2            Leisure and Holidays   Widlife Tourism   \n",
      "3            Leisure and Holidays     Beach Tourism   \n",
      "4            Leisure and Holidays   Widlife Tourism   \n",
      "5            Leisure and Holidays   Widlife Tourism   \n",
      "6            Leisure and Holidays  Wildlife Tourism   \n",
      "7            Leisure and Holidays  Cultural Tourism   \n",
      "8            Leisure and Holidays  Cultural Tourism   \n",
      "9            Leisure and Holidays   Widlife Tourism   \n",
      "\n",
      "                       info_source tour_arrangement  ... package_accomodation  \\\n",
      "0               Friends, relatives     Package Tour  ...                  Yes   \n",
      "1      Travel agent, tour operator     Package Tour  ...                  Yes   \n",
      "2      Travel agent, tour operator     Package Tour  ...                  Yes   \n",
      "3                   Radio, TV, Web      Independent  ...                   No   \n",
      "4      Travel agent, tour operator     Package Tour  ...                  Yes   \n",
      "5  Newspaper, magazines, brochures     Package Tour  ...                  Yes   \n",
      "6  Newspaper, magazines, brochures      Independent  ...                   No   \n",
      "7      Travel agent, tour operator      Independent  ...                   No   \n",
      "8               Friends, relatives      Independent  ...                   No   \n",
      "9      Travel agent, tour operator     Package Tour  ...                  Yes   \n",
      "\n",
      "  package_food package_transport_tz package_sightseeing package_guided_tour  \\\n",
      "0          Yes                  Yes                  No                  No   \n",
      "1          Yes                  Yes                  No                  No   \n",
      "2          Yes                  Yes                 Yes                 Yes   \n",
      "3           No                   No                  No                  No   \n",
      "4          Yes                  Yes                  No                 Yes   \n",
      "5          Yes                   No                  No                  No   \n",
      "6           No                   No                  No                  No   \n",
      "7           No                   No                  No                  No   \n",
      "8           No                   No                  No                  No   \n",
      "9           No                  Yes                 Yes                 Yes   \n",
      "\n",
      "  package_insurance night_mainland  night_zanzibar  first_trip_tz  \\\n",
      "0                No              0               7            Yes   \n",
      "1                No              0               7            Yes   \n",
      "2                No              6               6            Yes   \n",
      "3                No              3               0             No   \n",
      "4               Yes              7               0            Yes   \n",
      "5                No             14               7            Yes   \n",
      "6                No              7               0            Yes   \n",
      "7                No              4               0            Yes   \n",
      "8                No             60               0            Yes   \n",
      "9               Yes              6               0            Yes   \n",
      "\n",
      "  cost_category  \n",
      "0     High Cost  \n",
      "1     High Cost  \n",
      "2   Higher Cost  \n",
      "3    Lower Cost  \n",
      "4   Higher Cost  \n",
      "5     High Cost  \n",
      "6   Normal Cost  \n",
      "7      Low Cost  \n",
      "8   Normal Cost  \n",
      "9   Higher Cost  \n",
      "\n",
      "[10 rows x 21 columns]\n",
      "Tour_ID                   object\n",
      "country                   object\n",
      "age_group                 object\n",
      "travel_with               object\n",
      "total_female             float64\n",
      "total_male               float64\n",
      "purpose                   object\n",
      "main_activity             object\n",
      "info_source               object\n",
      "tour_arrangement          object\n",
      "package_transport_int     object\n",
      "package_accomodation      object\n",
      "package_food              object\n",
      "package_transport_tz      object\n",
      "package_sightseeing       object\n",
      "package_guided_tour       object\n",
      "package_insurance         object\n",
      "night_mainland             int64\n",
      "night_zanzibar             int64\n",
      "first_trip_tz             object\n",
      "cost_category             object\n",
      "dtype: object\n"
     ]
    },
    {
     "data": {
      "text/plain": [
       "total_male        14.625647\n",
       "night_zanzibar    11.165929\n",
       "night_mainland     9.160400\n",
       "total_female       8.430881\n",
       "dtype: float64"
      ]
     },
     "execution_count": 92,
     "metadata": {},
     "output_type": "execute_result"
    }
   ],
   "source": [
    "import matplotlib.pyplot as plt\n",
    "import seaborn as sns\n",
    "import config\n",
    "import pandas as pd\n",
    "\n",
    "df = pd.read_csv(\"/home/mwanikii/Documents/TanzaniaDataset/Input/Train.csv\")\n",
    "print(df.head(10))\n",
    "print(df.dtypes)\n",
    "\n",
    "df.skew().sort_values(ascending=False)\n",
    "#sns.pairplot(df)\n"
   ]
  },
  {
   "cell_type": "code",
   "execution_count": 93,
   "metadata": {},
   "outputs": [
    {
     "data": {
      "image/png": "[encoded data removed]",
      "text/plain": [
       "<Figure size 432x288 with 1 Axes>"
      ]
     },
     "metadata": {
      "needs_background": "light"
     },
     "output_type": "display_data"
    }
   ],
   "source": [
    "#Checking histogram of most skewed data\n",
    "plt.hist(df[\"total_male\"])\n",
    "plt.hist(df[\"night_zanzibar\"])\n",
    "plt.hist(df[\"night_mainland\"])\n",
    "plt.hist(df[\"total_female\"])\n",
    "plt.show()"
   ]
  },
  {
   "cell_type": "code",
   "execution_count": 94,
   "metadata": {},
   "outputs": [
    {
     "data": {
      "text/plain": [
       "0.14186352925134543"
      ]
     },
     "execution_count": 94,
     "metadata": {},
     "output_type": "execute_result"
    }
   ],
   "source": [
    "#Performing log transforms to reduce skew\n",
    "import numpy as np\n",
    "from scipy import stats\n",
    "#sqrt\n",
    "male_sqrt = np.sqrt(df[\"total_male\"])\n",
    "male_sqrt.skew()\n",
    "#plt.hist(male_sqrt)\n",
    "#sns.displot(male_sqrt)\n",
    "\n"
   ]
  },
  {
   "cell_type": "code",
   "execution_count": 52,
   "metadata": {},
   "outputs": [
    {
     "data": {
      "text/plain": [
       "1.139536098359586"
      ]
     },
     "execution_count": 52,
     "metadata": {},
     "output_type": "execute_result"
    }
   ],
   "source": [
    "#Log transformation\n",
    "df[\"total_male\"] = df[\"total_male\"] + 1\n",
    "male_log = np.log(df[\"total_male\"])\n",
    "male_log.skew()\n",
    "#sns.displot(male_log)"
   ]
  },
  {
   "cell_type": "code",
   "execution_count": 96,
   "metadata": {},
   "outputs": [
    {
     "data": {
      "text/plain": [
       "0.5144296396317806"
      ]
     },
     "execution_count": 96,
     "metadata": {},
     "output_type": "execute_result"
    }
   ],
   "source": [
    "#Log Transformation for Total_female\n",
    "df[\"total_female\"] = df[\"total_female\"] + 1\n",
    "female_log = np.log(df[\"total_female\"])\n",
    "female_log.skew()"
   ]
  },
  {
   "cell_type": "code",
   "execution_count": 95,
   "metadata": {},
   "outputs": [
    {
     "data": {
      "text/plain": [
       "0.856760452899993"
      ]
     },
     "execution_count": 95,
     "metadata": {},
     "output_type": "execute_result"
    }
   ],
   "source": [
    "#Log transformation of night_ZANZIBAR\n",
    "df[\"night_zanzibar\"] = df[\"night_zanzibar\"] + 1\n",
    "zanzibar_log = np.log(df[\"night_zanzibar\"])\n",
    "zanzibar_log.skew()"
   ]
  },
  {
   "cell_type": "code",
   "execution_count": 56,
   "metadata": {},
   "outputs": [
    {
     "ename": "TypeError",
     "evalue": "loop of ufunc does not support argument 0 of type str which has no callable log method",
     "output_type": "error",
     "traceback": [
      "\u001b[0;31m---------------------------------------------------------------------------\u001b[0m",
      "\u001b[0;31mAttributeError\u001b[0m                            Traceback (most recent call last)",
      "\u001b[0;31mAttributeError\u001b[0m: 'str' object has no attribute 'log'",
      "\nThe above exception was the direct cause of the following exception:\n",
      "\u001b[0;31mTypeError\u001b[0m                                 Traceback (most recent call last)",
      "\u001b[0;32m/tmp/ipykernel_5958/1029362462.py\u001b[0m in \u001b[0;36m<module>\u001b[0;34m\u001b[0m\n\u001b[1;32m      2\u001b[0m \u001b[0;32mfor\u001b[0m \u001b[0mcolumn\u001b[0m \u001b[0;32min\u001b[0m \u001b[0mdf\u001b[0m\u001b[0;34m.\u001b[0m\u001b[0mcolumns\u001b[0m\u001b[0;34m:\u001b[0m\u001b[0;34m\u001b[0m\u001b[0;34m\u001b[0m\u001b[0m\n\u001b[1;32m      3\u001b[0m     \u001b[0;32mtry\u001b[0m\u001b[0;34m:\u001b[0m\u001b[0;34m\u001b[0m\u001b[0;34m\u001b[0m\u001b[0m\n\u001b[0;32m----> 4\u001b[0;31m         \u001b[0mdf\u001b[0m\u001b[0;34m[\u001b[0m\u001b[0mcolumn\u001b[0m\u001b[0;34m]\u001b[0m \u001b[0;34m=\u001b[0m \u001b[0mnp\u001b[0m\u001b[0;34m.\u001b[0m\u001b[0mlog\u001b[0m\u001b[0;34m(\u001b[0m\u001b[0mdf\u001b[0m\u001b[0;34m[\u001b[0m\u001b[0mcolumn\u001b[0m\u001b[0;34m]\u001b[0m\u001b[0;34m)\u001b[0m\u001b[0;34m\u001b[0m\u001b[0;34m\u001b[0m\u001b[0m\n\u001b[0m\u001b[1;32m      5\u001b[0m     \u001b[0;32mexcept\u001b[0m \u001b[0;34m(\u001b[0m\u001b[0mValueError\u001b[0m\u001b[0;34m,\u001b[0m \u001b[0mAttributeError\u001b[0m\u001b[0;34m)\u001b[0m\u001b[0;34m:\u001b[0m\u001b[0;34m\u001b[0m\u001b[0;34m\u001b[0m\u001b[0m\n\u001b[1;32m      6\u001b[0m         \u001b[0;32mpass\u001b[0m\u001b[0;34m\u001b[0m\u001b[0;34m\u001b[0m\u001b[0m\n",
      "\u001b[0;32m~/.local/lib/python3.8/site-packages/pandas/core/series.py\u001b[0m in \u001b[0;36m__array_ufunc__\u001b[0;34m(self, ufunc, method, *inputs, **kwargs)\u001b[0m\n\u001b[1;32m    854\u001b[0m \u001b[0;34m\u001b[0m\u001b[0m\n\u001b[1;32m    855\u001b[0m         \u001b[0minputs\u001b[0m \u001b[0;34m=\u001b[0m \u001b[0mtuple\u001b[0m\u001b[0;34m(\u001b[0m\u001b[0mextract_array\u001b[0m\u001b[0;34m(\u001b[0m\u001b[0mx\u001b[0m\u001b[0;34m,\u001b[0m \u001b[0mextract_numpy\u001b[0m\u001b[0;34m=\u001b[0m\u001b[0;32mTrue\u001b[0m\u001b[0;34m)\u001b[0m \u001b[0;32mfor\u001b[0m \u001b[0mx\u001b[0m \u001b[0;32min\u001b[0m \u001b[0minputs\u001b[0m\u001b[0;34m)\u001b[0m\u001b[0;34m\u001b[0m\u001b[0;34m\u001b[0m\u001b[0m\n\u001b[0;32m--> 856\u001b[0;31m         \u001b[0mresult\u001b[0m \u001b[0;34m=\u001b[0m \u001b[0mgetattr\u001b[0m\u001b[0;34m(\u001b[0m\u001b[0mufunc\u001b[0m\u001b[0;34m,\u001b[0m \u001b[0mmethod\u001b[0m\u001b[0;34m)\u001b[0m\u001b[0;34m(\u001b[0m\u001b[0;34m*\u001b[0m\u001b[0minputs\u001b[0m\u001b[0;34m,\u001b[0m \u001b[0;34m**\u001b[0m\u001b[0mkwargs\u001b[0m\u001b[0;34m)\u001b[0m\u001b[0;34m\u001b[0m\u001b[0;34m\u001b[0m\u001b[0m\n\u001b[0m\u001b[1;32m    857\u001b[0m         \u001b[0;32mif\u001b[0m \u001b[0mlen\u001b[0m\u001b[0;34m(\u001b[0m\u001b[0mset\u001b[0m\u001b[0;34m(\u001b[0m\u001b[0mnames\u001b[0m\u001b[0;34m)\u001b[0m\u001b[0;34m)\u001b[0m \u001b[0;34m==\u001b[0m \u001b[0;36m1\u001b[0m\u001b[0;34m:\u001b[0m\u001b[0;34m\u001b[0m\u001b[0;34m\u001b[0m\u001b[0m\n\u001b[1;32m    858\u001b[0m             \u001b[0;31m# we require names to be hashable, right?\u001b[0m\u001b[0;34m\u001b[0m\u001b[0;34m\u001b[0m\u001b[0;34m\u001b[0m\u001b[0m\n",
      "\u001b[0;31mTypeError\u001b[0m: loop of ufunc does not support argument 0 of type str which has no callable log method"
     ]
    }
   ],
   "source": [
    "#Attempt at mutiple log transforms\n",
    "for column in df.columns:\n",
    "    try:\n",
    "        df[column] = np.log(df[column])\n",
    "    except (ValueError, AttributeError):\n",
    "        pass\n"
   ]
  },
  {
   "cell_type": "code",
   "execution_count": 75,
   "metadata": {},
   "outputs": [
    {
     "data": {
      "text/plain": [
       "(array([6.149e+03, 1.700e+01, 1.000e+00, 0.000e+00, 0.000e+00, 0.000e+00,\n",
       "        0.000e+00, 0.000e+00, 0.000e+00, 1.000e+00]),\n",
       " array([ 0.,  9., 18., 27., 36., 45., 54., 63., 72., 81., 90.]),\n",
       " <BarContainer object of 10 artists>)"
      ]
     },
     "execution_count": 75,
     "metadata": {},
     "output_type": "execute_result"
    },
    {
     "data": {
      "image/png": "[encoded data removed]",
      "text/plain": [
       "<Figure size 432x288 with 1 Axes>"
      ]
     },
     "metadata": {
      "needs_background": "light"
     },
     "output_type": "display_data"
    }
   ],
   "source": [
    "import matplotlib.pyplot as plt\n",
    "import pandas as pd\n",
    "df_test = pd.read_csv(\"/home/mwanikii/Documents/TanzaniaDataset/Input/Test.csv\")\n",
    "df_test.head()\n",
    "#df_test[\"total_male\"].max()\n",
    "plt.hist(df_test[\"total_male\"])\n",
    "#plt.show()"
   ]
  },
  {
   "cell_type": "code",
   "execution_count": 87,
   "metadata": {},
   "outputs": [
    {
     "name": "stdout",
     "output_type": "stream",
     "text": [
      "0        0.033902\n",
      "1        0.017094\n",
      "2        0.017094\n",
      "3        0.017094\n",
      "4        0.017094\n",
      "           ...   \n",
      "18501    0.017094\n",
      "18502    0.000000\n",
      "18503    0.017094\n",
      "18504    0.017094\n",
      "18505    0.017094\n",
      "Name: total_male, Length: 18506, dtype: float64\n",
      "0       -3.384294\n",
      "1       -4.069002\n",
      "2       -4.069002\n",
      "3       -4.069002\n",
      "4       -4.069002\n",
      "           ...   \n",
      "18501   -4.069002\n",
      "18502        -inf\n",
      "18503   -4.069002\n",
      "18504   -4.069002\n",
      "18505   -4.069002\n",
      "Name: total_male, Length: 18506, dtype: float64\n"
     ]
    },
    {
     "name": "stderr",
     "output_type": "stream",
     "text": [
      "/home/mwanikii/.local/lib/python3.8/site-packages/pandas/core/series.py:856: RuntimeWarning: divide by zero encountered in log\n",
      "  result = getattr(ufunc, method)(*inputs, **kwargs)\n"
     ]
    },
    {
     "data": {
      "text/plain": [
       "nan"
      ]
     },
     "execution_count": 87,
     "metadata": {},
     "output_type": "execute_result"
    }
   ],
   "source": [
    "df=pd.read_csv(\"/home/mwanikii/Documents/TanzaniaDataset/Input/preprocessed_train_data.csv\")\n",
    "df[\"total_male\"].skew()\n",
    "#df[\"total_male\"] = df[\"total_male\"] + 1\n",
    "male_log = np.log(df[\"total_male\"])\n",
    "print(df[\"total_male\"])\n",
    "print(male_log)\n",
    "male_log.skew()\n",
    "#df[\"total_male\"].head()\n"
   ]
  },
  {
   "cell_type": "code",
   "execution_count": 90,
   "metadata": {},
   "outputs": [
    {
     "data": {
      "text/plain": [
       "-0.04005150148014605"
      ]
     },
     "execution_count": 90,
     "metadata": {},
     "output_type": "execute_result"
    }
   ],
   "source": []
  }
 ],
 "metadata": {
  "kernelspec": {
   "display_name": "Python 3.8.10 64-bit",
   "language": "python",
   "name": "python3"
  },
  "language_info": {
   "name": "python",
   "version": "3.8.10"
  },
  "orig_nbformat": 4,
  "vscode": {
   "interpreter": {
    "hash": "916dbcbb3f70747c44a77c7bcd40155683ae19c65e1c03b4aa3499c5328201f1"
   }
  }
 },
 "nbformat": 4,
 "nbformat_minor": 2
}
